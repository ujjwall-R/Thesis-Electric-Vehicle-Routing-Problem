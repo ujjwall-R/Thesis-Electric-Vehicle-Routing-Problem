{
 "cells": [
  {
   "cell_type": "code",
   "execution_count": 185,
   "metadata": {},
   "outputs": [],
   "source": [
    "import numpy as np\n",
    "import pandas as pd"
   ]
  },
  {
   "attachments": {},
   "cell_type": "markdown",
   "metadata": {},
   "source": [
    "#### Load the matrices"
   ]
  },
  {
   "cell_type": "code",
   "execution_count": 186,
   "metadata": {},
   "outputs": [],
   "source": [
    "battery_expenditure = pd.read_csv('battery_expenditure_matrix.csv')\n",
    "distance_matrix = pd.read_csv('distance_matrix.csv')\n",
    "time_matrix = pd.read_csv('time_matrix.csv')"
   ]
  },
  {
   "attachments": {},
   "cell_type": "markdown",
   "metadata": {},
   "source": [
    "#### Generating random combination"
   ]
  },
  {
   "cell_type": "code",
   "execution_count": 187,
   "metadata": {},
   "outputs": [],
   "source": [
    "num_sequences=20\n",
    "start_node=0\n",
    "end_node=16\n",
    "battery_threshold=10\n",
    "\n",
    "w1=0.5\n",
    "w2=0.5"
   ]
  },
  {
   "cell_type": "code",
   "execution_count": 188,
   "metadata": {},
   "outputs": [],
   "source": [
    "def generate_random_sequences(num_sequences, battery_threshold=25):\n",
    "    sequences = []\n",
    "    node_list = list(range(17))\n",
    "\n",
    "    for _ in range(num_sequences):\n",
    "        while True:\n",
    "            shuffled_nodes = np.random.permutation(node_list[1:-1])\n",
    "            sequence = [start_node] + shuffled_nodes.tolist() + [end_node]\n",
    "            battery_level = 78\n",
    "            valid_sequence = True\n",
    "            \n",
    "            for i in range(len(sequence) - 1):\n",
    "                node1 = sequence[i]\n",
    "                node2 = sequence[i + 1]\n",
    "                battery_consumption = battery_expenditure.iloc[node1, node2]\n",
    "                battery_level -= battery_consumption\n",
    "                if battery_level < battery_threshold:\n",
    "                    valid_sequence = False\n",
    "                    break\n",
    "            \n",
    "            if valid_sequence:\n",
    "                sequences.append(sequence)\n",
    "                break\n",
    "\n",
    "    return sequences"
   ]
  },
  {
   "cell_type": "code",
   "execution_count": 189,
   "metadata": {},
   "outputs": [
    {
     "data": {
      "text/plain": [
       "[[0, 2, 8, 13, 3, 10, 9, 5, 6, 15, 12, 1, 14, 4, 7, 11, 16],\n",
       " [0, 4, 9, 11, 3, 6, 2, 10, 14, 1, 5, 12, 15, 13, 7, 8, 16],\n",
       " [0, 1, 11, 7, 6, 9, 4, 2, 8, 13, 5, 3, 12, 15, 10, 14, 16],\n",
       " [0, 2, 13, 7, 11, 6, 15, 1, 8, 4, 5, 10, 9, 12, 3, 14, 16],\n",
       " [0, 7, 15, 14, 5, 2, 1, 12, 9, 4, 10, 13, 6, 3, 8, 11, 16],\n",
       " [0, 4, 11, 2, 8, 14, 1, 13, 9, 5, 12, 3, 6, 15, 10, 7, 16],\n",
       " [0, 11, 10, 4, 1, 13, 6, 2, 7, 8, 15, 12, 3, 14, 5, 9, 16],\n",
       " [0, 6, 7, 4, 10, 14, 12, 1, 5, 2, 9, 8, 13, 3, 15, 11, 16],\n",
       " [0, 11, 8, 5, 12, 1, 2, 15, 6, 9, 3, 14, 4, 10, 7, 13, 16],\n",
       " [0, 15, 13, 6, 7, 8, 14, 12, 9, 3, 4, 2, 5, 11, 1, 10, 16],\n",
       " [0, 13, 3, 2, 12, 9, 11, 7, 5, 6, 8, 15, 1, 14, 4, 10, 16],\n",
       " [0, 12, 15, 13, 7, 14, 3, 5, 2, 10, 9, 8, 11, 1, 4, 6, 16],\n",
       " [0, 5, 9, 10, 2, 4, 3, 8, 11, 1, 13, 14, 6, 15, 7, 12, 16],\n",
       " [0, 12, 3, 8, 14, 11, 6, 13, 7, 2, 4, 15, 5, 10, 1, 9, 16],\n",
       " [0, 2, 5, 12, 11, 13, 9, 8, 10, 4, 3, 6, 15, 7, 1, 14, 16],\n",
       " [0, 13, 14, 12, 4, 1, 10, 11, 15, 6, 2, 8, 5, 3, 7, 9, 16],\n",
       " [0, 5, 8, 1, 6, 14, 2, 9, 10, 11, 15, 4, 12, 13, 3, 7, 16],\n",
       " [0, 4, 1, 13, 9, 14, 7, 6, 15, 12, 8, 10, 5, 3, 11, 2, 16],\n",
       " [0, 3, 10, 4, 2, 9, 7, 14, 8, 1, 12, 11, 6, 13, 5, 15, 16],\n",
       " [0, 4, 9, 7, 13, 12, 1, 6, 3, 5, 14, 10, 15, 11, 2, 8, 16]]"
      ]
     },
     "execution_count": 189,
     "metadata": {},
     "output_type": "execute_result"
    }
   ],
   "source": [
    "random_seq=generate_random_sequences(num_sequences)\n",
    "random_seq"
   ]
  },
  {
   "cell_type": "code",
   "execution_count": 190,
   "metadata": {},
   "outputs": [],
   "source": [
    "def calculate_cost(sequence, time_matrix, distance_matrix, w1, w2):\n",
    "    cost1 = 0\n",
    "    cost2 = 0\n",
    "    cost = 0\n",
    "\n",
    "    for i in range(len(sequence) - 1):\n",
    "        node1 = sequence[i]\n",
    "        node2 = sequence[i + 1]\n",
    "\n",
    "        cost1 += time_matrix.iloc[node1, node2]\n",
    "        cost2 += distance_matrix.iloc[node1, node2]\n",
    "\n",
    "        cost += (w1 * time_matrix.iloc[node1, node2]) + (w2 * distance_matrix.iloc[node1, node2])\n",
    "\n",
    "    return pd.DataFrame({'Σt': [cost1], 'Σd': [cost2], 'w1*Σt+w2*Σd': [cost]})"
   ]
  },
  {
   "cell_type": "code",
   "execution_count": 191,
   "metadata": {},
   "outputs": [],
   "source": [
    "cost_for_each_sequence = [calculate_cost(sequence, time_matrix, distance_matrix, w1, w2) for sequence in random_seq]\n",
    "result_df = pd.concat(cost_for_each_sequence, ignore_index=True)"
   ]
  },
  {
   "cell_type": "code",
   "execution_count": 192,
   "metadata": {},
   "outputs": [
    {
     "data": {
      "text/html": [
       "<div>\n",
       "<style scoped>\n",
       "    .dataframe tbody tr th:only-of-type {\n",
       "        vertical-align: middle;\n",
       "    }\n",
       "\n",
       "    .dataframe tbody tr th {\n",
       "        vertical-align: top;\n",
       "    }\n",
       "\n",
       "    .dataframe thead th {\n",
       "        text-align: right;\n",
       "    }\n",
       "</style>\n",
       "<table border=\"1\" class=\"dataframe\">\n",
       "  <thead>\n",
       "    <tr style=\"text-align: right;\">\n",
       "      <th></th>\n",
       "      <th>Σt</th>\n",
       "      <th>Σd</th>\n",
       "      <th>w1*Σt+w2*Σd</th>\n",
       "    </tr>\n",
       "  </thead>\n",
       "  <tbody>\n",
       "    <tr>\n",
       "      <th>0</th>\n",
       "      <td>5.351500</td>\n",
       "      <td>257.9113</td>\n",
       "      <td>131.631400</td>\n",
       "    </tr>\n",
       "    <tr>\n",
       "      <th>1</th>\n",
       "      <td>5.616528</td>\n",
       "      <td>268.6136</td>\n",
       "      <td>137.115064</td>\n",
       "    </tr>\n",
       "    <tr>\n",
       "      <th>2</th>\n",
       "      <td>5.644222</td>\n",
       "      <td>273.7264</td>\n",
       "      <td>139.685311</td>\n",
       "    </tr>\n",
       "    <tr>\n",
       "      <th>3</th>\n",
       "      <td>4.461556</td>\n",
       "      <td>209.8718</td>\n",
       "      <td>107.166678</td>\n",
       "    </tr>\n",
       "    <tr>\n",
       "      <th>4</th>\n",
       "      <td>5.701028</td>\n",
       "      <td>275.0805</td>\n",
       "      <td>140.390764</td>\n",
       "    </tr>\n",
       "    <tr>\n",
       "      <th>5</th>\n",
       "      <td>5.031444</td>\n",
       "      <td>240.9631</td>\n",
       "      <td>122.997272</td>\n",
       "    </tr>\n",
       "    <tr>\n",
       "      <th>6</th>\n",
       "      <td>5.313056</td>\n",
       "      <td>256.8799</td>\n",
       "      <td>131.096478</td>\n",
       "    </tr>\n",
       "    <tr>\n",
       "      <th>7</th>\n",
       "      <td>5.954333</td>\n",
       "      <td>284.3801</td>\n",
       "      <td>145.167217</td>\n",
       "    </tr>\n",
       "    <tr>\n",
       "      <th>8</th>\n",
       "      <td>4.599056</td>\n",
       "      <td>224.2182</td>\n",
       "      <td>114.408628</td>\n",
       "    </tr>\n",
       "    <tr>\n",
       "      <th>9</th>\n",
       "      <td>5.272917</td>\n",
       "      <td>250.8411</td>\n",
       "      <td>128.057008</td>\n",
       "    </tr>\n",
       "    <tr>\n",
       "      <th>10</th>\n",
       "      <td>5.965722</td>\n",
       "      <td>286.6546</td>\n",
       "      <td>146.310161</td>\n",
       "    </tr>\n",
       "    <tr>\n",
       "      <th>11</th>\n",
       "      <td>5.130722</td>\n",
       "      <td>240.5205</td>\n",
       "      <td>122.825611</td>\n",
       "    </tr>\n",
       "    <tr>\n",
       "      <th>12</th>\n",
       "      <td>5.464306</td>\n",
       "      <td>269.2311</td>\n",
       "      <td>137.347703</td>\n",
       "    </tr>\n",
       "    <tr>\n",
       "      <th>13</th>\n",
       "      <td>5.985000</td>\n",
       "      <td>299.8525</td>\n",
       "      <td>152.918750</td>\n",
       "    </tr>\n",
       "    <tr>\n",
       "      <th>14</th>\n",
       "      <td>5.037667</td>\n",
       "      <td>244.0092</td>\n",
       "      <td>124.523433</td>\n",
       "    </tr>\n",
       "    <tr>\n",
       "      <th>15</th>\n",
       "      <td>5.386417</td>\n",
       "      <td>257.8578</td>\n",
       "      <td>131.622108</td>\n",
       "    </tr>\n",
       "    <tr>\n",
       "      <th>16</th>\n",
       "      <td>5.972417</td>\n",
       "      <td>290.2758</td>\n",
       "      <td>148.124108</td>\n",
       "    </tr>\n",
       "    <tr>\n",
       "      <th>17</th>\n",
       "      <td>5.084833</td>\n",
       "      <td>241.6170</td>\n",
       "      <td>123.350917</td>\n",
       "    </tr>\n",
       "    <tr>\n",
       "      <th>18</th>\n",
       "      <td>5.601500</td>\n",
       "      <td>269.2665</td>\n",
       "      <td>137.434000</td>\n",
       "    </tr>\n",
       "    <tr>\n",
       "      <th>19</th>\n",
       "      <td>5.213333</td>\n",
       "      <td>247.7000</td>\n",
       "      <td>126.456667</td>\n",
       "    </tr>\n",
       "  </tbody>\n",
       "</table>\n",
       "</div>"
      ],
      "text/plain": [
       "          Σt        Σd  w1*Σt+w2*Σd\n",
       "0   5.351500  257.9113   131.631400\n",
       "1   5.616528  268.6136   137.115064\n",
       "2   5.644222  273.7264   139.685311\n",
       "3   4.461556  209.8718   107.166678\n",
       "4   5.701028  275.0805   140.390764\n",
       "5   5.031444  240.9631   122.997272\n",
       "6   5.313056  256.8799   131.096478\n",
       "7   5.954333  284.3801   145.167217\n",
       "8   4.599056  224.2182   114.408628\n",
       "9   5.272917  250.8411   128.057008\n",
       "10  5.965722  286.6546   146.310161\n",
       "11  5.130722  240.5205   122.825611\n",
       "12  5.464306  269.2311   137.347703\n",
       "13  5.985000  299.8525   152.918750\n",
       "14  5.037667  244.0092   124.523433\n",
       "15  5.386417  257.8578   131.622108\n",
       "16  5.972417  290.2758   148.124108\n",
       "17  5.084833  241.6170   123.350917\n",
       "18  5.601500  269.2665   137.434000\n",
       "19  5.213333  247.7000   126.456667"
      ]
     },
     "execution_count": 192,
     "metadata": {},
     "output_type": "execute_result"
    }
   ],
   "source": [
    "result_df"
   ]
  },
  {
   "attachments": {},
   "cell_type": "markdown",
   "metadata": {},
   "source": [
    "## Genetic Algorithm implementation"
   ]
  },
  {
   "cell_type": "code",
   "execution_count": 193,
   "metadata": {},
   "outputs": [],
   "source": [
    "def initialize_population(population_size):\n",
    "    population = generate_random_sequences(population_size)\n",
    "    return population\n"
   ]
  },
  {
   "cell_type": "code",
   "execution_count": 194,
   "metadata": {},
   "outputs": [],
   "source": [
    "def tournament_selection(population, fitness_values, tournament_size):\n",
    "    selected_parents = []\n",
    "    for _ in range(len(population)):\n",
    "        tournament_indices = np.random.choice(len(population), tournament_size, replace=False)\n",
    "        tournament_fitness = [fitness_values[i] for i in tournament_indices]\n",
    "        winner_index = tournament_indices[np.argmin(tournament_fitness)]\n",
    "        selected_parents.append(population[winner_index])\n",
    "    return selected_parents"
   ]
  },
  {
   "cell_type": "code",
   "execution_count": 195,
   "metadata": {},
   "outputs": [],
   "source": [
    "def ordered_crossover(parent1, parent2):\n",
    "    print(\"Crossing : \", parent1, parent2)\n",
    "\n",
    "    crossover_point1 = np.random.randint(1, len(parent1) - 2)\n",
    "    crossover_point2 = np.random.randint(crossover_point1 + 1, len(parent1) - 1)\n",
    "\n",
    "    child = [-1] * len(parent1)\n",
    "    child[crossover_point1:crossover_point2] = parent1[crossover_point1:crossover_point2]\n",
    "\n",
    "    remaining_indices = [i for i in range(1, len(parent1) - 1) if parent2[i] not in child[crossover_point1:crossover_point2]]\n",
    "    child[:crossover_point1] = [parent2[i] for i in range(1, crossover_point1 + 1)]\n",
    "    child[crossover_point2:] = [parent2[i] for i in range(crossover_point2, len(parent2) - 1)]\n",
    "\n",
    "    # Ensure starting and ending nodes remain fixed\n",
    "    child[0] = parent1[0]\n",
    "    child[-1] = parent1[-1]\n",
    "    print(\"  Result  :  \", child)\n",
    "\n",
    "    return child\n"
   ]
  },
  {
   "cell_type": "code",
   "execution_count": 196,
   "metadata": {},
   "outputs": [],
   "source": [
    "def shift_mutation(sequence):\n",
    "    mutation_point1 = np.random.randint(1, len(sequence) - 2)\n",
    "    mutation_point2 = np.random.randint(mutation_point1 + 1, len(sequence) - 1)\n",
    "\n",
    "    mutated_sequence = sequence[:mutation_point1] + sequence[mutation_point2:] + sequence[mutation_point1:mutation_point2]\n",
    "\n",
    "    # Ensure starting and ending nodes remain fixed\n",
    "    mutated_sequence[0] = sequence[0]\n",
    "    mutated_sequence[-1] = sequence[-1]\n",
    "\n",
    "    print( \" Original : \",sequence, \" Mutated : \", mutated_sequence)\n",
    "    return mutated_sequence"
   ]
  },
  {
   "cell_type": "code",
   "execution_count": 197,
   "metadata": {},
   "outputs": [],
   "source": [
    "def genetic_algorithm(num_generations, population_size, tournament_size):\n",
    "    population = initialize_population(population_size)\n",
    "    for generation in range(num_generations):\n",
    "        # Calculate fitness values for each individual in the population\n",
    "        fitness_values = [calculate_cost(sequence, time_matrix, distance_matrix, w1, w2)['w1*Σt+w2*Σd'].values[0] for sequence in population]\n",
    "\n",
    "        # Perform tournament selection to select parents\n",
    "        parents = tournament_selection(population, fitness_values, tournament_size)\n",
    "        # Perform ordered crossover to generate offspring\n",
    "        offspring = []\n",
    "        for i in range(0, len(parents), 2):\n",
    "            if i + 1 < len(parents):\n",
    "                child1 = ordered_crossover(parents[i], parents[i + 1])\n",
    "                child2 = ordered_crossover(parents[i + 1], parents[i])\n",
    "                offspring.extend([child1, child2])\n",
    "\n",
    "        # Perform shift mutation on the offspring\n",
    "        mutated_offspring = [shift_mutation(child) for child in offspring]\n",
    "\n",
    "        # Replace the old population with the new one\n",
    "        population = mutated_offspring\n",
    "\n",
    "    # Select the best individual from the final population\n",
    "    best_sequence = min(population, key=lambda x: calculate_cost(x, time_matrix, distance_matrix, w1, w2)['w1*Σt+w2*Σd'].values[0])\n",
    "\n",
    "    return best_sequence"
   ]
  },
  {
   "cell_type": "code",
   "execution_count": 198,
   "metadata": {},
   "outputs": [
    {
     "name": "stdout",
     "output_type": "stream",
     "text": [
      "Crossing :  [0, 7, 14, 6, 12, 11, 15, 13, 5, 3, 2, 1, 4, 10, 8, 9, 16] [0, 13, 11, 6, 4, 10, 9, 12, 5, 8, 7, 1, 15, 14, 2, 3, 16]\n"
     ]
    },
    {
     "ename": "NameError",
     "evalue": "name 'random' is not defined",
     "output_type": "error",
     "traceback": [
      "\u001b[0;31m---------------------------------------------------------------------------\u001b[0m",
      "\u001b[0;31mNameError\u001b[0m                                 Traceback (most recent call last)",
      "Cell \u001b[0;32mIn[198], line 1\u001b[0m\n\u001b[0;32m----> 1\u001b[0m best_sequence \u001b[39m=\u001b[39m genetic_algorithm(num_generations\u001b[39m=\u001b[39;49m\u001b[39m5\u001b[39;49m, population_size\u001b[39m=\u001b[39;49m\u001b[39m20\u001b[39;49m, tournament_size\u001b[39m=\u001b[39;49m\u001b[39m5\u001b[39;49m)\n\u001b[1;32m      2\u001b[0m \u001b[39mprint\u001b[39m(\u001b[39m\"\u001b[39m\u001b[39mBest Sequence:\u001b[39m\u001b[39m\"\u001b[39m, best_sequence)\n\u001b[1;32m      3\u001b[0m \u001b[39m# print(\"Best Cost:\", calculate_cost(best_sequence, time_matrix, distance_matrix, w1, w2))\u001b[39;00m\n",
      "Cell \u001b[0;32mIn[197], line 13\u001b[0m, in \u001b[0;36mgenetic_algorithm\u001b[0;34m(num_generations, population_size, tournament_size)\u001b[0m\n\u001b[1;32m     11\u001b[0m \u001b[39mfor\u001b[39;00m i \u001b[39min\u001b[39;00m \u001b[39mrange\u001b[39m(\u001b[39m0\u001b[39m, \u001b[39mlen\u001b[39m(parents), \u001b[39m2\u001b[39m):\n\u001b[1;32m     12\u001b[0m     \u001b[39mif\u001b[39;00m i \u001b[39m+\u001b[39m \u001b[39m1\u001b[39m \u001b[39m<\u001b[39m \u001b[39mlen\u001b[39m(parents):\n\u001b[0;32m---> 13\u001b[0m         child1 \u001b[39m=\u001b[39m ordered_crossover(parents[i], parents[i \u001b[39m+\u001b[39;49m \u001b[39m1\u001b[39;49m])\n\u001b[1;32m     14\u001b[0m         child2 \u001b[39m=\u001b[39m ordered_crossover(parents[i \u001b[39m+\u001b[39m \u001b[39m1\u001b[39m], parents[i])\n\u001b[1;32m     15\u001b[0m         offspring\u001b[39m.\u001b[39mextend([child1, child2])\n",
      "Cell \u001b[0;32mIn[195], line 27\u001b[0m, in \u001b[0;36mordered_crossover\u001b[0;34m(parent1, parent2)\u001b[0m\n\u001b[1;32m     24\u001b[0m start, end \u001b[39m=\u001b[39m \u001b[39m0\u001b[39m, length \u001b[39m-\u001b[39m \u001b[39m1\u001b[39m\n\u001b[1;32m     26\u001b[0m \u001b[39m# Choose a random range for crossover\u001b[39;00m\n\u001b[0;32m---> 27\u001b[0m crossover_range \u001b[39m=\u001b[39m \u001b[39msorted\u001b[39m(random\u001b[39m.\u001b[39msample(\u001b[39mrange\u001b[39m(\u001b[39m1\u001b[39m, length \u001b[39m-\u001b[39m \u001b[39m1\u001b[39m), \u001b[39m2\u001b[39m))\n\u001b[1;32m     29\u001b[0m \u001b[39m# Copy the selected range from parent1 to child\u001b[39;00m\n\u001b[1;32m     30\u001b[0m child[crossover_range[\u001b[39m0\u001b[39m]:crossover_range[\u001b[39m1\u001b[39m] \u001b[39m+\u001b[39m \u001b[39m1\u001b[39m] \u001b[39m=\u001b[39m parent1[crossover_range[\u001b[39m0\u001b[39m]:crossover_range[\u001b[39m1\u001b[39m] \u001b[39m+\u001b[39m \u001b[39m1\u001b[39m]\n",
      "\u001b[0;31mNameError\u001b[0m: name 'random' is not defined"
     ]
    }
   ],
   "source": [
    "best_sequence = genetic_algorithm(num_generations=5, population_size=20, tournament_size=5)\n",
    "print(\"Best Sequence:\", best_sequence)\n",
    "# print(\"Best Cost:\", calculate_cost(best_sequence, time_matrix, distance_matrix, w1, w2))"
   ]
  },
  {
   "cell_type": "code",
   "execution_count": null,
   "metadata": {},
   "outputs": [],
   "source": []
  }
 ],
 "metadata": {
  "kernelspec": {
   "display_name": "myenv",
   "language": "python",
   "name": "python3"
  },
  "language_info": {
   "codemirror_mode": {
    "name": "ipython",
    "version": 3
   },
   "file_extension": ".py",
   "mimetype": "text/x-python",
   "name": "python",
   "nbconvert_exporter": "python",
   "pygments_lexer": "ipython3",
   "version": "3.11.3"
  },
  "orig_nbformat": 4
 },
 "nbformat": 4,
 "nbformat_minor": 2
}
