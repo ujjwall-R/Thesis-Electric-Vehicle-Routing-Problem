{
 "cells": [
  {
   "cell_type": "code",
   "execution_count": 459,
   "metadata": {},
   "outputs": [],
   "source": [
    "import numpy as np\n",
    "import pandas as pd\n",
    "import random"
   ]
  },
  {
   "attachments": {},
   "cell_type": "markdown",
   "metadata": {},
   "source": [
    "#### Load the matrices"
   ]
  },
  {
   "cell_type": "code",
   "execution_count": 460,
   "metadata": {},
   "outputs": [],
   "source": [
    "battery_expenditure = pd.read_csv('battery_expenditure_matrix.csv')\n",
    "distance_matrix = pd.read_csv('distance_matrix.csv')\n",
    "time_matrix = pd.read_csv('time_matrix.csv')"
   ]
  },
  {
   "cell_type": "code",
   "execution_count": 461,
   "metadata": {},
   "outputs": [],
   "source": [
    "customer_demands = [[3,4],[5,15],[3,7],[8,10],[6,13]]"
   ]
  },
  {
   "cell_type": "code",
   "execution_count": 462,
   "metadata": {},
   "outputs": [],
   "source": [
    "covered_nodes = []\n",
    "\n",
    "for customer_demand in customer_demands:\n",
    "    covered_nodes.append(customer_demand[0])\n",
    "    covered_nodes.append(customer_demand[1])\n",
    "    sorted(covered_nodes)\n"
   ]
  },
  {
   "attachments": {},
   "cell_type": "markdown",
   "metadata": {},
   "source": [
    "#### Generating random combination"
   ]
  },
  {
   "cell_type": "code",
   "execution_count": 463,
   "metadata": {},
   "outputs": [],
   "source": [
    "num_sequences=20\n",
    "start_node=0\n",
    "end_node=16\n",
    "battery_threshold=10\n",
    "\n",
    "w1=0.5\n",
    "w2=0.5"
   ]
  },
  {
   "cell_type": "code",
   "execution_count": 464,
   "metadata": {},
   "outputs": [],
   "source": [
    "def carCapacityMaintained(route):\n",
    "    curWt = 0\n",
    "    for i in range(len(route)):\n",
    "        wt = route[i][1]\n",
    "        curWt += wt\n",
    "        if curWt > 3:\n",
    "            return False\n",
    "        if curWt < 0:\n",
    "            return False\n",
    "         \n",
    "    return True\n"
   ]
  },
  {
   "cell_type": "code",
   "execution_count": 465,
   "metadata": {},
   "outputs": [],
   "source": [
    "def allCustomersDemand(sequence):\n",
    "    route=[]\n",
    "    for node in sequence[1:-1]:\n",
    "        route.append(node[0])\n",
    "    return sorted(route) == sorted(covered_nodes)\n"
   ]
  },
  {
   "cell_type": "code",
   "execution_count": 466,
   "metadata": {},
   "outputs": [],
   "source": [
    "def sequenceIsValid(route):\n",
    "    # check for validity if every customer reaches destination\n",
    "    if not allCustomersDemand(route):\n",
    "        return False\n",
    "\n",
    "    # check for validity if car strength not increase 3\n",
    "    if not carCapacityMaintained(route):\n",
    "        return False\n",
    "    \n",
    "    #check if battery level not decrease less than 0\n",
    "    for i in range(len(route) - 1):\n",
    "        node1 = route[i][0]\n",
    "        node2 = route[i + 1][0]\n",
    "                \n",
    "        if node1 == 1 or node1 == 2:\n",
    "            battery_level=78\n",
    "\n",
    "            battery_consumption = battery_expenditure.iloc[node1, node2]\n",
    "            battery_level -= battery_consumption\n",
    "            if battery_level < battery_threshold:\n",
    "                return False\n",
    "    return True"
   ]
  },
  {
   "cell_type": "code",
   "execution_count": 467,
   "metadata": {},
   "outputs": [],
   "source": [
    "def shuffle_array_except_first_last(arr):\n",
    "    first_element = arr[0]\n",
    "    last_element = arr[-1]\n",
    "    internal_elements = arr[1:-1]\n",
    "    random.shuffle(internal_elements)\n",
    "    shuffled_array = [first_element] + internal_elements + [last_element]\n",
    "    return shuffled_array"
   ]
  },
  {
   "cell_type": "code",
   "execution_count": 468,
   "metadata": {},
   "outputs": [],
   "source": [
    "def generate_random_sequences(num_sequences, battery_threshold,customer_demands=customer_demands):\n",
    "    sequences = []\n",
    "\n",
    "    for _ in range(num_sequences):\n",
    "        while True:\n",
    "            route = [(0, 0) for _ in range(12)]\n",
    "            used_positions = set()\n",
    "            unused_positions = set()\n",
    "            for i in range(12):\n",
    "                unused_positions.add(i)\n",
    "            unused_positions.remove(0)\n",
    "            unused_positions.remove(11)\n",
    "            used_positions.add(0)\n",
    "            used_positions.add(11)\n",
    "\n",
    "            for demand in customer_demands:\n",
    "                position1 = random.randint(min(unused_positions),max(unused_positions)-1)\n",
    "                while position1 in used_positions:\n",
    "                    position1 = random.randint(min(unused_positions),max(unused_positions)-1)\n",
    "                unused_positions.remove(position1)\n",
    "                used_positions.add(position1)\n",
    "\n",
    "                position2 = random.randint(position1 + 1, max(unused_positions))\n",
    "                while position2 in used_positions:\n",
    "                    position2 = random.randint(position1 + 1, max(unused_positions))\n",
    "                unused_positions.remove(position2)\n",
    "                used_positions.add(position2)\n",
    "\n",
    "                route[position1] = (demand[0], +1)  # Insert the start node of the customer demand\n",
    "                route[position2] = (demand[1], -1)  # Insert the end node of the customer demand\n",
    "\n",
    "            \n",
    "            if sequenceIsValid(route):\n",
    "                sequences.append(route)\n",
    "                break\n",
    "\n",
    "    return sequences"
   ]
  },
  {
   "cell_type": "code",
   "execution_count": 469,
   "metadata": {},
   "outputs": [],
   "source": [
    "# random_seq=generate_random_sequences(num_sequences,10)\n",
    "# random_seq"
   ]
  },
  {
   "cell_type": "code",
   "execution_count": 470,
   "metadata": {},
   "outputs": [],
   "source": [
    "def calculate_cost(sequence, time_matrix, distance_matrix, w1, w2):\n",
    "    cost1 = 0\n",
    "    cost2 = 0\n",
    "    cost = 0\n",
    "\n",
    "    for i in range(len(sequence) - 1):\n",
    "        node1 = sequence[i][0]\n",
    "        node2 = sequence[i + 1][0]\n",
    "\n",
    "        cost1 += time_matrix.iloc[node1, node2]\n",
    "        cost2 += distance_matrix.iloc[node1, node2]\n",
    "\n",
    "        cost += (w1 * time_matrix.iloc[node1, node2]) + (w2 * distance_matrix.iloc[node1, node2])\n",
    "\n",
    "    return pd.DataFrame({'Σt': [cost1], 'Σd': [cost2], 'w1*Σt+w2*Σd': [cost]})"
   ]
  },
  {
   "cell_type": "code",
   "execution_count": 471,
   "metadata": {},
   "outputs": [],
   "source": [
    "cost_for_each_sequence = [calculate_cost(sequence, time_matrix, distance_matrix, w1, w2) for sequence in random_seq]\n",
    "result_df = pd.concat(cost_for_each_sequence, ignore_index=True)"
   ]
  },
  {
   "cell_type": "code",
   "execution_count": 472,
   "metadata": {},
   "outputs": [
    {
     "data": {
      "text/html": [
       "<div>\n",
       "<style scoped>\n",
       "    .dataframe tbody tr th:only-of-type {\n",
       "        vertical-align: middle;\n",
       "    }\n",
       "\n",
       "    .dataframe tbody tr th {\n",
       "        vertical-align: top;\n",
       "    }\n",
       "\n",
       "    .dataframe thead th {\n",
       "        text-align: right;\n",
       "    }\n",
       "</style>\n",
       "<table border=\"1\" class=\"dataframe\">\n",
       "  <thead>\n",
       "    <tr style=\"text-align: right;\">\n",
       "      <th></th>\n",
       "      <th>Σt</th>\n",
       "      <th>Σd</th>\n",
       "      <th>w1*Σt+w2*Σd</th>\n",
       "    </tr>\n",
       "  </thead>\n",
       "  <tbody>\n",
       "    <tr>\n",
       "      <th>0</th>\n",
       "      <td>3.430167</td>\n",
       "      <td>162.6588</td>\n",
       "      <td>83.044483</td>\n",
       "    </tr>\n",
       "    <tr>\n",
       "      <th>1</th>\n",
       "      <td>3.684278</td>\n",
       "      <td>173.9921</td>\n",
       "      <td>88.838189</td>\n",
       "    </tr>\n",
       "    <tr>\n",
       "      <th>2</th>\n",
       "      <td>3.825000</td>\n",
       "      <td>186.3056</td>\n",
       "      <td>95.065300</td>\n",
       "    </tr>\n",
       "    <tr>\n",
       "      <th>3</th>\n",
       "      <td>3.604917</td>\n",
       "      <td>173.1313</td>\n",
       "      <td>88.368108</td>\n",
       "    </tr>\n",
       "    <tr>\n",
       "      <th>4</th>\n",
       "      <td>3.530306</td>\n",
       "      <td>167.1858</td>\n",
       "      <td>85.358053</td>\n",
       "    </tr>\n",
       "    <tr>\n",
       "      <th>5</th>\n",
       "      <td>3.394222</td>\n",
       "      <td>161.4621</td>\n",
       "      <td>82.428161</td>\n",
       "    </tr>\n",
       "    <tr>\n",
       "      <th>6</th>\n",
       "      <td>3.732500</td>\n",
       "      <td>177.5077</td>\n",
       "      <td>90.620100</td>\n",
       "    </tr>\n",
       "    <tr>\n",
       "      <th>7</th>\n",
       "      <td>3.576083</td>\n",
       "      <td>166.2341</td>\n",
       "      <td>84.905092</td>\n",
       "    </tr>\n",
       "    <tr>\n",
       "      <th>8</th>\n",
       "      <td>4.028028</td>\n",
       "      <td>194.0407</td>\n",
       "      <td>99.034364</td>\n",
       "    </tr>\n",
       "    <tr>\n",
       "      <th>9</th>\n",
       "      <td>3.296806</td>\n",
       "      <td>153.0340</td>\n",
       "      <td>78.165403</td>\n",
       "    </tr>\n",
       "    <tr>\n",
       "      <th>10</th>\n",
       "      <td>4.008278</td>\n",
       "      <td>195.8221</td>\n",
       "      <td>99.915189</td>\n",
       "    </tr>\n",
       "    <tr>\n",
       "      <th>11</th>\n",
       "      <td>3.680194</td>\n",
       "      <td>177.8710</td>\n",
       "      <td>90.775597</td>\n",
       "    </tr>\n",
       "    <tr>\n",
       "      <th>12</th>\n",
       "      <td>3.456222</td>\n",
       "      <td>160.0274</td>\n",
       "      <td>81.741811</td>\n",
       "    </tr>\n",
       "    <tr>\n",
       "      <th>13</th>\n",
       "      <td>3.937361</td>\n",
       "      <td>191.5304</td>\n",
       "      <td>97.733881</td>\n",
       "    </tr>\n",
       "    <tr>\n",
       "      <th>14</th>\n",
       "      <td>3.256028</td>\n",
       "      <td>154.1340</td>\n",
       "      <td>78.695014</td>\n",
       "    </tr>\n",
       "    <tr>\n",
       "      <th>15</th>\n",
       "      <td>3.320306</td>\n",
       "      <td>154.6749</td>\n",
       "      <td>78.997603</td>\n",
       "    </tr>\n",
       "    <tr>\n",
       "      <th>16</th>\n",
       "      <td>3.956389</td>\n",
       "      <td>191.7611</td>\n",
       "      <td>97.858744</td>\n",
       "    </tr>\n",
       "    <tr>\n",
       "      <th>17</th>\n",
       "      <td>3.888306</td>\n",
       "      <td>187.5689</td>\n",
       "      <td>95.728603</td>\n",
       "    </tr>\n",
       "    <tr>\n",
       "      <th>18</th>\n",
       "      <td>3.538139</td>\n",
       "      <td>164.7592</td>\n",
       "      <td>84.148669</td>\n",
       "    </tr>\n",
       "    <tr>\n",
       "      <th>19</th>\n",
       "      <td>3.792972</td>\n",
       "      <td>180.6240</td>\n",
       "      <td>92.208486</td>\n",
       "    </tr>\n",
       "  </tbody>\n",
       "</table>\n",
       "</div>"
      ],
      "text/plain": [
       "          Σt        Σd  w1*Σt+w2*Σd\n",
       "0   3.430167  162.6588    83.044483\n",
       "1   3.684278  173.9921    88.838189\n",
       "2   3.825000  186.3056    95.065300\n",
       "3   3.604917  173.1313    88.368108\n",
       "4   3.530306  167.1858    85.358053\n",
       "5   3.394222  161.4621    82.428161\n",
       "6   3.732500  177.5077    90.620100\n",
       "7   3.576083  166.2341    84.905092\n",
       "8   4.028028  194.0407    99.034364\n",
       "9   3.296806  153.0340    78.165403\n",
       "10  4.008278  195.8221    99.915189\n",
       "11  3.680194  177.8710    90.775597\n",
       "12  3.456222  160.0274    81.741811\n",
       "13  3.937361  191.5304    97.733881\n",
       "14  3.256028  154.1340    78.695014\n",
       "15  3.320306  154.6749    78.997603\n",
       "16  3.956389  191.7611    97.858744\n",
       "17  3.888306  187.5689    95.728603\n",
       "18  3.538139  164.7592    84.148669\n",
       "19  3.792972  180.6240    92.208486"
      ]
     },
     "execution_count": 472,
     "metadata": {},
     "output_type": "execute_result"
    }
   ],
   "source": [
    "result_df"
   ]
  },
  {
   "attachments": {},
   "cell_type": "markdown",
   "metadata": {},
   "source": [
    "## Genetic Algorithm implementation"
   ]
  },
  {
   "cell_type": "code",
   "execution_count": 473,
   "metadata": {},
   "outputs": [],
   "source": [
    "def initialize_population(population_size):\n",
    "    population = generate_random_sequences(population_size,10)\n",
    "    return population\n"
   ]
  },
  {
   "cell_type": "code",
   "execution_count": 474,
   "metadata": {},
   "outputs": [],
   "source": [
    "def tournament_selection(population, fitness_values, tournament_size):\n",
    "    selected_parents = []\n",
    "    for _ in range(len(population)):\n",
    "        tournament_indices = np.random.choice(len(population), tournament_size, replace=False)\n",
    "        tournament_fitness = [fitness_values[i] for i in tournament_indices]\n",
    "        winner_index = tournament_indices[np.argmin(tournament_fitness)]\n",
    "        selected_parents.append(population[winner_index])\n",
    "    return selected_parents"
   ]
  },
  {
   "cell_type": "code",
   "execution_count": 475,
   "metadata": {},
   "outputs": [],
   "source": [
    "import random\n",
    "\n",
    "def ordered_crossover(parent1, parent2):\n",
    "    length = len(parent1)\n",
    "    crossover_point = random.randint(1, length - 2)\n",
    "    \n",
    "\n",
    "    while True:\n",
    "        child = parent1[:crossover_point] + parent2[crossover_point:]\n",
    "        if sequenceIsValid(child):\n",
    "            break\n",
    "        crossover_point = random.randint(1, length - 2)\n",
    "        \n",
    "\n",
    "    # print(\"Crossing : \", parent1, parent2)\n",
    "    # print(\"Result     : \", child)\n",
    "\n",
    "    return child\n"
   ]
  },
  {
   "cell_type": "code",
   "execution_count": 476,
   "metadata": {},
   "outputs": [],
   "source": [
    "def shift_mutation(sequence):\n",
    "    while True:\n",
    "        mutation_point1 = np.random.randint(1, len(sequence) - 2)\n",
    "        mutation_point2 = np.random.randint(mutation_point1 + 1, len(sequence) - 1)\n",
    "        mutated_sequence = sequence[:mutation_point1] + sequence[mutation_point2:] + sequence[mutation_point1:mutation_point2]\n",
    "        mutated_sequence[0] = sequence[0]\n",
    "        mutated_sequence[-1] = sequence[-1]\n",
    "        \n",
    "        if sequenceIsValid(mutated_sequence):\n",
    "            break\n",
    "\n",
    "    print( \" Original : \",sequence, \" Mutated : \", mutated_sequence)\n",
    "    return mutated_sequence"
   ]
  },
  {
   "cell_type": "code",
   "execution_count": 477,
   "metadata": {},
   "outputs": [],
   "source": [
    "import random\n",
    "\n",
    "def genetic_algorithm(num_generations, population_size, tournament_size, mutation_probability):\n",
    "    population = initialize_population(population_size)\n",
    "    \n",
    "    for generation in range(num_generations):\n",
    "        fitness_values = [calculate_cost(sequence, time_matrix, distance_matrix, w1, w2)['w1*Σt+w2*Σd'].values[0] for sequence in population]\n",
    "\n",
    "        parents = tournament_selection(population, fitness_values, tournament_size)\n",
    "        offspring = []\n",
    "\n",
    "        for i in range(0, len(parents), 2):\n",
    "            if i + 1 < len(parents):\n",
    "                child1 = ordered_crossover(parents[i], parents[i + 1])\n",
    "                child2 = ordered_crossover(parents[i + 1], parents[i])\n",
    "                offspring.extend([child1, child2])\n",
    "\n",
    "        mutated_offspring = []\n",
    "        for child in offspring:\n",
    "            if random.uniform(0, 1) < mutation_probability:\n",
    "                mutated_child = shift_mutation(child)\n",
    "                mutated_offspring.append(mutated_child)\n",
    "            else:\n",
    "                mutated_offspring.append(child)\n",
    "\n",
    "        population = mutated_offspring\n",
    "\n",
    "    best_sequence = min(population, key=lambda x: calculate_cost(x, time_matrix, distance_matrix, w1, w2)['w1*Σt+w2*Σd'].values[0])\n",
    "\n",
    "    return best_sequence\n"
   ]
  },
  {
   "cell_type": "code",
   "execution_count": 478,
   "metadata": {},
   "outputs": [
    {
     "ename": "KeyboardInterrupt",
     "evalue": "",
     "output_type": "error",
     "traceback": [
      "\u001b[0;31m---------------------------------------------------------------------------\u001b[0m",
      "\u001b[0;31mKeyboardInterrupt\u001b[0m                         Traceback (most recent call last)",
      "Cell \u001b[0;32mIn[478], line 1\u001b[0m\n\u001b[0;32m----> 1\u001b[0m best_sequence \u001b[39m=\u001b[39m genetic_algorithm(num_generations\u001b[39m=\u001b[39;49m\u001b[39m100\u001b[39;49m, population_size\u001b[39m=\u001b[39;49m\u001b[39m50\u001b[39;49m, tournament_size\u001b[39m=\u001b[39;49m\u001b[39m5\u001b[39;49m, mutation_probability\u001b[39m=\u001b[39;49m\u001b[39m0.0001\u001b[39;49m)\n\u001b[1;32m      2\u001b[0m \u001b[39mprint\u001b[39m(\u001b[39m\"\u001b[39m\u001b[39mBest Sequence:\u001b[39m\u001b[39m\"\u001b[39m, best_sequence)\n\u001b[1;32m      3\u001b[0m \u001b[39mprint\u001b[39m(\u001b[39m\"\u001b[39m\u001b[39mBest Cost:\u001b[39m\u001b[39m\"\u001b[39m, calculate_cost(best_sequence, time_matrix, distance_matrix, w1, w2))\n",
      "Cell \u001b[0;32mIn[477], line 21\u001b[0m, in \u001b[0;36mgenetic_algorithm\u001b[0;34m(num_generations, population_size, tournament_size, mutation_probability)\u001b[0m\n\u001b[1;32m     19\u001b[0m \u001b[39mfor\u001b[39;00m child \u001b[39min\u001b[39;00m offspring:\n\u001b[1;32m     20\u001b[0m     \u001b[39mif\u001b[39;00m random\u001b[39m.\u001b[39muniform(\u001b[39m0\u001b[39m, \u001b[39m1\u001b[39m) \u001b[39m<\u001b[39m mutation_probability:\n\u001b[0;32m---> 21\u001b[0m         mutated_child \u001b[39m=\u001b[39m shift_mutation(child)\n\u001b[1;32m     22\u001b[0m         mutated_offspring\u001b[39m.\u001b[39mappend(mutated_child)\n\u001b[1;32m     23\u001b[0m     \u001b[39melse\u001b[39;00m:\n",
      "Cell \u001b[0;32mIn[476], line 3\u001b[0m, in \u001b[0;36mshift_mutation\u001b[0;34m(sequence)\u001b[0m\n\u001b[1;32m      1\u001b[0m \u001b[39mdef\u001b[39;00m \u001b[39mshift_mutation\u001b[39m(sequence):\n\u001b[1;32m      2\u001b[0m     \u001b[39mwhile\u001b[39;00m \u001b[39mTrue\u001b[39;00m:\n\u001b[0;32m----> 3\u001b[0m         mutation_point1 \u001b[39m=\u001b[39m np\u001b[39m.\u001b[39;49mrandom\u001b[39m.\u001b[39;49mrandint(\u001b[39m1\u001b[39;49m, \u001b[39mlen\u001b[39;49m(sequence) \u001b[39m-\u001b[39;49m \u001b[39m2\u001b[39;49m)\n\u001b[1;32m      4\u001b[0m         mutation_point2 \u001b[39m=\u001b[39m np\u001b[39m.\u001b[39mrandom\u001b[39m.\u001b[39mrandint(mutation_point1 \u001b[39m+\u001b[39m \u001b[39m1\u001b[39m, \u001b[39mlen\u001b[39m(sequence) \u001b[39m-\u001b[39m \u001b[39m1\u001b[39m)\n\u001b[1;32m      5\u001b[0m         mutated_sequence \u001b[39m=\u001b[39m sequence[:mutation_point1] \u001b[39m+\u001b[39m sequence[mutation_point2:] \u001b[39m+\u001b[39m sequence[mutation_point1:mutation_point2]\n",
      "\u001b[0;31mKeyboardInterrupt\u001b[0m: "
     ]
    }
   ],
   "source": [
    "best_sequence = genetic_algorithm(num_generations=100, population_size=50, tournament_size=5, mutation_probability=0.0001)\n",
    "print(\"Best Sequence:\", best_sequence)\n",
    "print(\"Best Cost:\", calculate_cost(best_sequence, time_matrix, distance_matrix, w1, w2))"
   ]
  },
  {
   "cell_type": "code",
   "execution_count": null,
   "metadata": {},
   "outputs": [],
   "source": []
  }
 ],
 "metadata": {
  "kernelspec": {
   "display_name": "myenv",
   "language": "python",
   "name": "python3"
  },
  "language_info": {
   "codemirror_mode": {
    "name": "ipython",
    "version": 3
   },
   "file_extension": ".py",
   "mimetype": "text/x-python",
   "name": "python",
   "nbconvert_exporter": "python",
   "pygments_lexer": "ipython3",
   "version": "3.11.3"
  },
  "orig_nbformat": 4
 },
 "nbformat": 4,
 "nbformat_minor": 2
}
