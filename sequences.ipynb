{
 "cells": [
  {
   "cell_type": "code",
   "execution_count": 1,
   "metadata": {},
   "outputs": [],
   "source": [
    "import numpy as np\n",
    "import pandas as pd\n",
    "import random"
   ]
  },
  {
   "attachments": {},
   "cell_type": "markdown",
   "metadata": {},
   "source": [
    "#### Load the matrices"
   ]
  },
  {
   "cell_type": "code",
   "execution_count": 2,
   "metadata": {},
   "outputs": [],
   "source": [
    "battery_expenditure = pd.read_csv('battery_expenditure_matrix.csv')\n",
    "distance_matrix = pd.read_csv('distance_matrix.csv')\n",
    "time_matrix = pd.read_csv('time_matrix.csv')"
   ]
  },
  {
   "cell_type": "code",
   "execution_count": 3,
   "metadata": {},
   "outputs": [],
   "source": [
    "customer_demands = [[3,4],[5,15],[3,7],[8,10],[6,13]]"
   ]
  },
  {
   "attachments": {},
   "cell_type": "markdown",
   "metadata": {},
   "source": [
    "#### Generating random combination"
   ]
  },
  {
   "cell_type": "code",
   "execution_count": 4,
   "metadata": {},
   "outputs": [],
   "source": [
    "num_sequences=20\n",
    "start_node=0\n",
    "end_node=16\n",
    "battery_threshold=10\n",
    "\n",
    "w1=0.5\n",
    "w2=0.5"
   ]
  },
  {
   "cell_type": "code",
   "execution_count": 5,
   "metadata": {},
   "outputs": [],
   "source": [
    "def sequenceIsValid(route):\n",
    "    # check for validity if car strength not increase 3\n",
    "\n",
    "    # check for validity if every customer reaches destination\n",
    "\n",
    "    #check if battery level not decrease less than 0\n",
    "    for i in range(len(route) - 1):\n",
    "        node1 = route[i]\n",
    "        node2 = route[i + 1]\n",
    "                \n",
    "        if node1 == 1 or node1 == 2:\n",
    "            battery_level=78\n",
    "\n",
    "            battery_consumption = battery_expenditure.iloc[node1, node2]\n",
    "            battery_level -= battery_consumption\n",
    "            if battery_level < battery_threshold:\n",
    "                return False\n",
    "    return True"
   ]
  },
  {
   "cell_type": "code",
   "execution_count": 6,
   "metadata": {},
   "outputs": [],
   "source": [
    "def generate_random_sequences(num_sequences, battery_threshold,customer_demands=customer_demands):\n",
    "    sequences = []\n",
    "\n",
    "    for _ in range(num_sequences):\n",
    "        while True:\n",
    "\n",
    "            route = [0]  # Start at node 0\n",
    "            # Randomly shuffle the customer demands\n",
    "            shuffled_demands = random.sample(customer_demands, len(customer_demands))\n",
    "            for demand in shuffled_demands:\n",
    "                route.append(demand[0])  # Start node of the customer demand\n",
    "                route.append(demand[1])  # End node of the customer demand\n",
    "\n",
    "            route.append(end_node)  # End at node 0\n",
    "            \n",
    "            valid_sequence = sequenceIsValid(route)\n",
    "            \n",
    "            if valid_sequence:\n",
    "                sequences.append(route)\n",
    "                break\n",
    "\n",
    "    return sequences"
   ]
  },
  {
   "cell_type": "code",
   "execution_count": 7,
   "metadata": {},
   "outputs": [
    {
     "data": {
      "text/plain": [
       "[[0, 6, 13, 3, 4, 5, 15, 8, 10, 3, 7, 16],\n",
       " [0, 3, 4, 6, 13, 3, 7, 8, 10, 5, 15, 16],\n",
       " [0, 3, 7, 6, 13, 8, 10, 3, 4, 5, 15, 16],\n",
       " [0, 5, 15, 3, 4, 8, 10, 3, 7, 6, 13, 16],\n",
       " [0, 3, 7, 5, 15, 3, 4, 8, 10, 6, 13, 16],\n",
       " [0, 3, 7, 8, 10, 3, 4, 6, 13, 5, 15, 16],\n",
       " [0, 3, 4, 8, 10, 5, 15, 3, 7, 6, 13, 16],\n",
       " [0, 8, 10, 3, 7, 6, 13, 3, 4, 5, 15, 16],\n",
       " [0, 8, 10, 6, 13, 5, 15, 3, 7, 3, 4, 16],\n",
       " [0, 5, 15, 8, 10, 3, 4, 3, 7, 6, 13, 16],\n",
       " [0, 5, 15, 6, 13, 3, 4, 3, 7, 8, 10, 16],\n",
       " [0, 8, 10, 3, 7, 5, 15, 3, 4, 6, 13, 16],\n",
       " [0, 8, 10, 3, 4, 5, 15, 6, 13, 3, 7, 16],\n",
       " [0, 3, 7, 6, 13, 5, 15, 3, 4, 8, 10, 16],\n",
       " [0, 8, 10, 5, 15, 6, 13, 3, 7, 3, 4, 16],\n",
       " [0, 5, 15, 3, 7, 6, 13, 8, 10, 3, 4, 16],\n",
       " [0, 8, 10, 3, 4, 3, 7, 6, 13, 5, 15, 16],\n",
       " [0, 3, 4, 8, 10, 5, 15, 3, 7, 6, 13, 16],\n",
       " [0, 8, 10, 5, 15, 3, 7, 3, 4, 6, 13, 16],\n",
       " [0, 5, 15, 3, 4, 3, 7, 8, 10, 6, 13, 16]]"
      ]
     },
     "execution_count": 7,
     "metadata": {},
     "output_type": "execute_result"
    }
   ],
   "source": [
    "random_seq=generate_random_sequences(num_sequences,10)\n",
    "random_seq"
   ]
  },
  {
   "cell_type": "code",
   "execution_count": 8,
   "metadata": {},
   "outputs": [],
   "source": [
    "def calculate_cost(sequence, time_matrix, distance_matrix, w1, w2):\n",
    "    cost1 = 0\n",
    "    cost2 = 0\n",
    "    cost = 0\n",
    "\n",
    "    for i in range(len(sequence) - 1):\n",
    "        node1 = sequence[i]\n",
    "        node2 = sequence[i + 1]\n",
    "\n",
    "        cost1 += time_matrix.iloc[node1, node2]\n",
    "        cost2 += distance_matrix.iloc[node1, node2]\n",
    "\n",
    "        cost += (w1 * time_matrix.iloc[node1, node2]) + (w2 * distance_matrix.iloc[node1, node2])\n",
    "\n",
    "    return pd.DataFrame({'Σt': [cost1], 'Σd': [cost2], 'w1*Σt+w2*Σd': [cost]})"
   ]
  },
  {
   "cell_type": "code",
   "execution_count": 9,
   "metadata": {},
   "outputs": [],
   "source": [
    "cost_for_each_sequence = [calculate_cost(sequence, time_matrix, distance_matrix, w1, w2) for sequence in random_seq]\n",
    "result_df = pd.concat(cost_for_each_sequence, ignore_index=True)"
   ]
  },
  {
   "cell_type": "code",
   "execution_count": 10,
   "metadata": {},
   "outputs": [
    {
     "data": {
      "text/html": [
       "<div>\n",
       "<style scoped>\n",
       "    .dataframe tbody tr th:only-of-type {\n",
       "        vertical-align: middle;\n",
       "    }\n",
       "\n",
       "    .dataframe tbody tr th {\n",
       "        vertical-align: top;\n",
       "    }\n",
       "\n",
       "    .dataframe thead th {\n",
       "        text-align: right;\n",
       "    }\n",
       "</style>\n",
       "<table border=\"1\" class=\"dataframe\">\n",
       "  <thead>\n",
       "    <tr style=\"text-align: right;\">\n",
       "      <th></th>\n",
       "      <th>Σt</th>\n",
       "      <th>Σd</th>\n",
       "      <th>w1*Σt+w2*Σd</th>\n",
       "    </tr>\n",
       "  </thead>\n",
       "  <tbody>\n",
       "    <tr>\n",
       "      <th>0</th>\n",
       "      <td>3.899556</td>\n",
       "      <td>185.4339</td>\n",
       "      <td>94.666728</td>\n",
       "    </tr>\n",
       "    <tr>\n",
       "      <th>1</th>\n",
       "      <td>3.574278</td>\n",
       "      <td>166.2446</td>\n",
       "      <td>84.909439</td>\n",
       "    </tr>\n",
       "    <tr>\n",
       "      <th>2</th>\n",
       "      <td>3.819722</td>\n",
       "      <td>177.9629</td>\n",
       "      <td>90.891311</td>\n",
       "    </tr>\n",
       "    <tr>\n",
       "      <th>3</th>\n",
       "      <td>3.839361</td>\n",
       "      <td>183.0995</td>\n",
       "      <td>93.469431</td>\n",
       "    </tr>\n",
       "    <tr>\n",
       "      <th>4</th>\n",
       "      <td>3.773028</td>\n",
       "      <td>178.9315</td>\n",
       "      <td>91.352264</td>\n",
       "    </tr>\n",
       "    <tr>\n",
       "      <th>5</th>\n",
       "      <td>3.640639</td>\n",
       "      <td>170.4126</td>\n",
       "      <td>87.026619</td>\n",
       "    </tr>\n",
       "    <tr>\n",
       "      <th>6</th>\n",
       "      <td>3.773028</td>\n",
       "      <td>178.9315</td>\n",
       "      <td>91.352264</td>\n",
       "    </tr>\n",
       "    <tr>\n",
       "      <th>7</th>\n",
       "      <td>3.817194</td>\n",
       "      <td>179.1058</td>\n",
       "      <td>91.461497</td>\n",
       "    </tr>\n",
       "    <tr>\n",
       "      <th>8</th>\n",
       "      <td>4.125861</td>\n",
       "      <td>197.2549</td>\n",
       "      <td>100.690381</td>\n",
       "    </tr>\n",
       "    <tr>\n",
       "      <th>9</th>\n",
       "      <td>3.759389</td>\n",
       "      <td>176.8699</td>\n",
       "      <td>90.314644</td>\n",
       "    </tr>\n",
       "    <tr>\n",
       "      <th>10</th>\n",
       "      <td>3.841833</td>\n",
       "      <td>182.7199</td>\n",
       "      <td>93.280867</td>\n",
       "    </tr>\n",
       "    <tr>\n",
       "      <th>11</th>\n",
       "      <td>3.756722</td>\n",
       "      <td>175.5365</td>\n",
       "      <td>89.646611</td>\n",
       "    </tr>\n",
       "    <tr>\n",
       "      <th>12</th>\n",
       "      <td>4.045250</td>\n",
       "      <td>193.0706</td>\n",
       "      <td>98.557925</td>\n",
       "    </tr>\n",
       "    <tr>\n",
       "      <th>13</th>\n",
       "      <td>4.090222</td>\n",
       "      <td>197.6756</td>\n",
       "      <td>100.882911</td>\n",
       "    </tr>\n",
       "    <tr>\n",
       "      <th>14</th>\n",
       "      <td>4.059500</td>\n",
       "      <td>193.0870</td>\n",
       "      <td>98.573250</td>\n",
       "    </tr>\n",
       "    <tr>\n",
       "      <th>15</th>\n",
       "      <td>4.128361</td>\n",
       "      <td>196.1120</td>\n",
       "      <td>100.120181</td>\n",
       "    </tr>\n",
       "    <tr>\n",
       "      <th>16</th>\n",
       "      <td>3.872694</td>\n",
       "      <td>181.9734</td>\n",
       "      <td>92.923047</td>\n",
       "    </tr>\n",
       "    <tr>\n",
       "      <th>17</th>\n",
       "      <td>3.773028</td>\n",
       "      <td>178.9315</td>\n",
       "      <td>91.352264</td>\n",
       "    </tr>\n",
       "    <tr>\n",
       "      <th>18</th>\n",
       "      <td>3.756722</td>\n",
       "      <td>175.5365</td>\n",
       "      <td>89.646611</td>\n",
       "    </tr>\n",
       "    <tr>\n",
       "      <th>19</th>\n",
       "      <td>3.591000</td>\n",
       "      <td>168.1437</td>\n",
       "      <td>85.867350</td>\n",
       "    </tr>\n",
       "  </tbody>\n",
       "</table>\n",
       "</div>"
      ],
      "text/plain": [
       "          Σt        Σd  w1*Σt+w2*Σd\n",
       "0   3.899556  185.4339    94.666728\n",
       "1   3.574278  166.2446    84.909439\n",
       "2   3.819722  177.9629    90.891311\n",
       "3   3.839361  183.0995    93.469431\n",
       "4   3.773028  178.9315    91.352264\n",
       "5   3.640639  170.4126    87.026619\n",
       "6   3.773028  178.9315    91.352264\n",
       "7   3.817194  179.1058    91.461497\n",
       "8   4.125861  197.2549   100.690381\n",
       "9   3.759389  176.8699    90.314644\n",
       "10  3.841833  182.7199    93.280867\n",
       "11  3.756722  175.5365    89.646611\n",
       "12  4.045250  193.0706    98.557925\n",
       "13  4.090222  197.6756   100.882911\n",
       "14  4.059500  193.0870    98.573250\n",
       "15  4.128361  196.1120   100.120181\n",
       "16  3.872694  181.9734    92.923047\n",
       "17  3.773028  178.9315    91.352264\n",
       "18  3.756722  175.5365    89.646611\n",
       "19  3.591000  168.1437    85.867350"
      ]
     },
     "execution_count": 10,
     "metadata": {},
     "output_type": "execute_result"
    }
   ],
   "source": [
    "result_df"
   ]
  },
  {
   "attachments": {},
   "cell_type": "markdown",
   "metadata": {},
   "source": [
    "## Genetic Algorithm implementation"
   ]
  },
  {
   "cell_type": "code",
   "execution_count": 11,
   "metadata": {},
   "outputs": [],
   "source": [
    "def initialize_population(population_size):\n",
    "    population = generate_random_sequences(population_size,10)\n",
    "    return population\n"
   ]
  },
  {
   "cell_type": "code",
   "execution_count": 12,
   "metadata": {},
   "outputs": [],
   "source": [
    "def tournament_selection(population, fitness_values, tournament_size):\n",
    "    selected_parents = []\n",
    "    for _ in range(len(population)):\n",
    "        tournament_indices = np.random.choice(len(population), tournament_size, replace=False)\n",
    "        tournament_fitness = [fitness_values[i] for i in tournament_indices]\n",
    "        winner_index = tournament_indices[np.argmin(tournament_fitness)]\n",
    "        selected_parents.append(population[winner_index])\n",
    "    return selected_parents"
   ]
  },
  {
   "cell_type": "code",
   "execution_count": 13,
   "metadata": {},
   "outputs": [],
   "source": [
    "import random\n",
    "\n",
    "def ordered_crossover(parent1, parent2):\n",
    "    length = len(parent1)\n",
    "    crossover_point = random.randint(1, length - 2)\n",
    "    \n",
    "\n",
    "    while True:\n",
    "        child = parent1[:crossover_point] + parent2[crossover_point:]\n",
    "        if sequenceIsValid(child):\n",
    "            break\n",
    "        crossover_point = random.randint(1, length - 2)\n",
    "        \n",
    "\n",
    "    # print(\"Crossing : \", parent1, parent2)\n",
    "    # print(\"Result     : \", child)\n",
    "\n",
    "    return child\n"
   ]
  },
  {
   "cell_type": "code",
   "execution_count": 14,
   "metadata": {},
   "outputs": [],
   "source": [
    "def shift_mutation(sequence):\n",
    "    mutation_point1 = np.random.randint(1, len(sequence) - 2)\n",
    "    mutation_point2 = np.random.randint(mutation_point1 + 1, len(sequence) - 1)\n",
    "    mutated_sequence = sequence[:mutation_point1] + sequence[mutation_point2:] + sequence[mutation_point1:mutation_point2]\n",
    "    mutated_sequence[0] = sequence[0]\n",
    "    mutated_sequence[-1] = sequence[-1]\n",
    "\n",
    "    print( \" Original : \",sequence, \" Mutated : \", mutated_sequence)\n",
    "    return mutated_sequence"
   ]
  },
  {
   "cell_type": "code",
   "execution_count": 15,
   "metadata": {},
   "outputs": [],
   "source": [
    "import random\n",
    "\n",
    "def genetic_algorithm(num_generations, population_size, tournament_size, mutation_probability):\n",
    "    population = initialize_population(population_size)\n",
    "    \n",
    "    for generation in range(num_generations):\n",
    "        fitness_values = [calculate_cost(sequence, time_matrix, distance_matrix, w1, w2)['w1*Σt+w2*Σd'].values[0] for sequence in population]\n",
    "\n",
    "        parents = tournament_selection(population, fitness_values, tournament_size)\n",
    "        offspring = []\n",
    "\n",
    "        for i in range(0, len(parents), 2):\n",
    "            if i + 1 < len(parents):\n",
    "                child1 = ordered_crossover(parents[i], parents[i + 1])\n",
    "                child2 = ordered_crossover(parents[i + 1], parents[i])\n",
    "                offspring.extend([child1, child2])\n",
    "\n",
    "        mutated_offspring = []\n",
    "        for child in offspring:\n",
    "            if random.uniform(0, 1) < mutation_probability:\n",
    "                mutated_child = shift_mutation(child)\n",
    "                mutated_offspring.append(mutated_child)\n",
    "            else:\n",
    "                mutated_offspring.append(child)\n",
    "\n",
    "        population = mutated_offspring\n",
    "\n",
    "    best_sequence = min(population, key=lambda x: calculate_cost(x, time_matrix, distance_matrix, w1, w2)['w1*Σt+w2*Σd'].values[0])\n",
    "\n",
    "    return best_sequence\n"
   ]
  },
  {
   "cell_type": "code",
   "execution_count": 16,
   "metadata": {},
   "outputs": [
    {
     "name": "stdout",
     "output_type": "stream",
     "text": [
      " Original :  [0, 6, 4, 8, 4, 3, 7, 8, 4, 5, 13, 16]  Mutated :  [0, 6, 4, 8, 4, 7, 8, 4, 5, 13, 16, 16]\n",
      " Original :  [0, 6, 4, 8, 4, 7, 8, 8, 4, 13, 16, 16]  Mutated :  [0, 6, 4, 8, 4, 7, 13, 16, 16, 8, 8, 16]\n",
      "Best Sequence: [0, 6, 4, 8, 4, 7, 8, 8, 4, 13, 16, 16]\n",
      "Best Cost:          Σt        Σd  w1*Σt+w2*Σd\n",
      "0  2.256306  102.6526    52.454453\n"
     ]
    }
   ],
   "source": [
    "best_sequence = genetic_algorithm(num_generations=100, population_size=50, tournament_size=5, mutation_probability=0.0001)\n",
    "print(\"Best Sequence:\", best_sequence)\n",
    "print(\"Best Cost:\", calculate_cost(best_sequence, time_matrix, distance_matrix, w1, w2))"
   ]
  },
  {
   "cell_type": "code",
   "execution_count": null,
   "metadata": {},
   "outputs": [],
   "source": []
  }
 ],
 "metadata": {
  "kernelspec": {
   "display_name": "myenv",
   "language": "python",
   "name": "python3"
  },
  "language_info": {
   "codemirror_mode": {
    "name": "ipython",
    "version": 3
   },
   "file_extension": ".py",
   "mimetype": "text/x-python",
   "name": "python",
   "nbconvert_exporter": "python",
   "pygments_lexer": "ipython3",
   "version": "3.11.3"
  },
  "orig_nbformat": 4
 },
 "nbformat": 4,
 "nbformat_minor": 2
}
