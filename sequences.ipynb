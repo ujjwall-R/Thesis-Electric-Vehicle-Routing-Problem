{
 "cells": [
  {
   "cell_type": "code",
   "execution_count": 8,
   "metadata": {},
   "outputs": [],
   "source": [
    "import numpy as np\n",
    "import pandas as pd"
   ]
  },
  {
   "attachments": {},
   "cell_type": "markdown",
   "metadata": {},
   "source": [
    "#### Load the matrices"
   ]
  },
  {
   "cell_type": "code",
   "execution_count": 3,
   "metadata": {},
   "outputs": [],
   "source": [
    "battery_expenditure = pd.read_csv('battery_expenditure_matrix.csv')\n",
    "distance_matrix = pd.read_csv('distance_matrix.csv')\n",
    "time_matrix = pd.read_csv('time_matrix.csv')"
   ]
  },
  {
   "attachments": {},
   "cell_type": "markdown",
   "metadata": {},
   "source": [
    "#### Generating random combination"
   ]
  },
  {
   "cell_type": "code",
   "execution_count": 25,
   "metadata": {},
   "outputs": [],
   "source": [
    "num_sequences=20\n",
    "start_node=0\n",
    "end_node=16\n",
    "battery_threshold=10\n",
    "\n",
    "w1=0.5\n",
    "w2=0.5"
   ]
  },
  {
   "cell_type": "code",
   "execution_count": 42,
   "metadata": {},
   "outputs": [],
   "source": [
    "def generate_random_sequences(num_sequences, battery_threshold=25):\n",
    "    sequences = []\n",
    "    node_list = list(range(17))\n",
    "\n",
    "    for _ in range(num_sequences):\n",
    "        while True:\n",
    "            shuffled_nodes = np.random.permutation(node_list[1:-1])\n",
    "            sequence = [start_node] + shuffled_nodes.tolist() + [end_node]\n",
    "            battery_level = 78\n",
    "            valid_sequence = True\n",
    "            \n",
    "            for i in range(len(sequence) - 1):\n",
    "                node1 = sequence[i]\n",
    "                node2 = sequence[i + 1]\n",
    "                battery_consumption = battery_expenditure.iloc[node1, node2]\n",
    "                battery_level -= battery_consumption\n",
    "                if battery_level < battery_threshold:\n",
    "                    valid_sequence = False\n",
    "                    break\n",
    "            \n",
    "            if valid_sequence:\n",
    "                sequences.append(sequence)\n",
    "                break\n",
    "\n",
    "    return sequences"
   ]
  },
  {
   "cell_type": "code",
   "execution_count": 41,
   "metadata": {},
   "outputs": [
    {
     "data": {
      "text/plain": [
       "[[0, 2, 13, 7, 9, 4, 3, 14, 12, 6, 5, 10, 1, 8, 11, 15, 16],\n",
       " [0, 3, 6, 9, 7, 11, 12, 14, 4, 1, 2, 13, 15, 8, 5, 10, 16],\n",
       " [0, 15, 13, 6, 14, 7, 8, 5, 1, 12, 3, 9, 4, 10, 2, 11, 16],\n",
       " [0, 6, 4, 2, 12, 5, 7, 14, 15, 9, 10, 1, 13, 8, 11, 3, 16],\n",
       " [0, 3, 5, 7, 12, 2, 10, 8, 11, 13, 9, 15, 4, 14, 6, 1, 16],\n",
       " [0, 14, 3, 6, 4, 15, 7, 11, 9, 12, 1, 2, 13, 5, 10, 8, 16],\n",
       " [0, 13, 8, 2, 9, 12, 15, 7, 10, 5, 3, 1, 14, 6, 4, 11, 16],\n",
       " [0, 12, 14, 13, 8, 4, 5, 11, 9, 6, 7, 10, 15, 2, 1, 3, 16],\n",
       " [0, 11, 7, 10, 8, 13, 4, 14, 6, 15, 2, 1, 3, 12, 5, 9, 16],\n",
       " [0, 15, 4, 10, 12, 9, 7, 14, 6, 1, 5, 2, 11, 13, 8, 3, 16],\n",
       " [0, 1, 11, 4, 14, 2, 6, 8, 3, 13, 5, 9, 7, 15, 10, 12, 16],\n",
       " [0, 10, 15, 12, 1, 8, 3, 7, 2, 5, 11, 14, 13, 9, 6, 4, 16],\n",
       " [0, 5, 3, 6, 12, 4, 10, 1, 2, 15, 14, 7, 8, 11, 9, 13, 16],\n",
       " [0, 3, 9, 5, 6, 15, 8, 12, 2, 10, 4, 11, 13, 1, 14, 7, 16],\n",
       " [0, 4, 11, 14, 5, 6, 3, 12, 10, 1, 9, 15, 7, 2, 8, 13, 16],\n",
       " [0, 10, 6, 12, 13, 3, 2, 15, 5, 8, 1, 4, 14, 11, 7, 9, 16],\n",
       " [0, 8, 2, 15, 6, 12, 1, 11, 13, 14, 3, 4, 9, 7, 10, 5, 16],\n",
       " [0, 12, 2, 1, 5, 13, 4, 7, 9, 15, 8, 10, 14, 6, 11, 3, 16],\n",
       " [0, 1, 9, 11, 6, 8, 7, 10, 13, 3, 4, 12, 5, 2, 14, 15, 16],\n",
       " [0, 9, 14, 2, 5, 6, 15, 11, 13, 12, 8, 3, 10, 4, 7, 1, 16]]"
      ]
     },
     "execution_count": 41,
     "metadata": {},
     "output_type": "execute_result"
    }
   ],
   "source": [
    "random_seq=generate_random_sequences(num_sequences)\n",
    "random_seq"
   ]
  },
  {
   "cell_type": "code",
   "execution_count": 28,
   "metadata": {},
   "outputs": [],
   "source": [
    "def calculate_cost(sequence):\n",
    "    cost = 0\n",
    "    for i in range(len(sequence) - 1):\n",
    "        node1 = sequence[i]\n",
    "        node2 = sequence[i + 1]\n",
    "        cost += (w1*time_matrix.iloc[node1, node2]) + (w2*distance_matrix.iloc[node1, node2])\n",
    "    return cost"
   ]
  },
  {
   "cell_type": "code",
   "execution_count": 29,
   "metadata": {},
   "outputs": [],
   "source": [
    "cost_for_each_sequence = [calculate_cost(sequence) for sequence in random_seq]"
   ]
  },
  {
   "cell_type": "code",
   "execution_count": 30,
   "metadata": {},
   "outputs": [
    {
     "data": {
      "text/plain": [
       "[107.19143055555557,\n",
       " 138.37696944444443,\n",
       " 139.9407388888889,\n",
       " 137.4790611111111,\n",
       " 131.01190833333334,\n",
       " 147.88667777777778,\n",
       " 119.12474722222224,\n",
       " 124.82488333333333,\n",
       " 144.8524111111111,\n",
       " 158.274475,\n",
       " 137.57631388888888,\n",
       " 134.53152777777777,\n",
       " 124.49424444444446,\n",
       " 142.65636111111112,\n",
       " 110.55445,\n",
       " 145.63495,\n",
       " 117.96345000000002,\n",
       " 142.4633888888889,\n",
       " 111.17804166666667,\n",
       " 152.01516666666666]"
      ]
     },
     "execution_count": 30,
     "metadata": {},
     "output_type": "execute_result"
    }
   ],
   "source": [
    "cost_for_each_sequence"
   ]
  },
  {
   "cell_type": "code",
   "execution_count": null,
   "metadata": {},
   "outputs": [],
   "source": []
  }
 ],
 "metadata": {
  "kernelspec": {
   "display_name": "myenv",
   "language": "python",
   "name": "python3"
  },
  "language_info": {
   "codemirror_mode": {
    "name": "ipython",
    "version": 3
   },
   "file_extension": ".py",
   "mimetype": "text/x-python",
   "name": "python",
   "nbconvert_exporter": "python",
   "pygments_lexer": "ipython3",
   "version": "3.11.3"
  },
  "orig_nbformat": 4
 },
 "nbformat": 4,
 "nbformat_minor": 2
}
